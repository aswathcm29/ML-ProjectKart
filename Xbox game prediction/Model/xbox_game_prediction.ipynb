{
 "cells": [
  {
   "cell_type": "code",
   "execution_count": 14,
   "id": "f61bf84c-3ed5-4e23-9c37-8ead8854013c",
   "metadata": {},
   "outputs": [],
   "source": [
    "import pandas as pd\n",
    "import numpy as np\n",
    "import matplotlib\n",
    "import seaborn as sns\n",
    "import sklearn\n",
    "%matplotlib inline"
   ]
  },
  {
   "cell_type": "code",
   "execution_count": 15,
   "id": "e714c833-e5dc-4cf0-9e97-fd4e6727b16d",
   "metadata": {},
   "outputs": [],
   "source": [
    "from sklearn.model_selection import train_test_split\n",
    "from sklearn.linear_model import LogisticRegression\n",
    "from sklearn.ensemble import RandomForestClassifier\n",
    "from sklearn.metrics import accuracy_score,precision_score"
   ]
  },
  {
   "cell_type": "code",
   "execution_count": 16,
   "id": "bf61adfc-3ff9-4e72-853f-ba09d94f9a3a",
   "metadata": {},
   "outputs": [],
   "source": [
    "import warnings\n",
    "warnings.filterwarnings(\"ignore\")"
   ]
  },
  {
   "cell_type": "code",
   "execution_count": 17,
   "id": "34f6b415-ee73-4e66-98d6-388445352cc1",
   "metadata": {},
   "outputs": [
    {
     "name": "stdout",
     "output_type": "stream",
     "text": [
      "pandas: 2.2.2\n",
      "numpy: 1.26.4\n",
      "matplotlib: 3.9.0\n",
      "seaborn: 0.13.2\n",
      "sklearn: 1.5.1\n"
     ]
    }
   ],
   "source": [
    "print(\"pandas:\", pd.__version__)\n",
    "print(\"numpy:\", np.__version__)\n",
    "print(\"matplotlib:\", matplotlib.__version__)\n",
    "print(\"seaborn:\", sns.__version__)\n",
    "print(\"sklearn:\", sklearn.__version__)"
   ]
  },
  {
   "cell_type": "code",
   "execution_count": 18,
   "id": "409ca192-a115-44ec-8b73-5533928b5697",
   "metadata": {},
   "outputs": [],
   "source": [
    "df = pd.read_csv('./Dataset/xbox_search.csv')"
   ]
  },
  {
   "cell_type": "code",
   "execution_count": 19,
   "id": "a216bcd7-3054-4d1a-b78e-165c78ba2e14",
   "metadata": {},
   "outputs": [
    {
     "data": {
      "text/html": [
       "<div>\n",
       "<style scoped>\n",
       "    .dataframe tbody tr th:only-of-type {\n",
       "        vertical-align: middle;\n",
       "    }\n",
       "\n",
       "    .dataframe tbody tr th {\n",
       "        vertical-align: top;\n",
       "    }\n",
       "\n",
       "    .dataframe thead th {\n",
       "        text-align: right;\n",
       "    }\n",
       "</style>\n",
       "<table border=\"1\" class=\"dataframe\">\n",
       "  <thead>\n",
       "    <tr style=\"text-align: right;\">\n",
       "      <th></th>\n",
       "      <th>user</th>\n",
       "      <th>sku</th>\n",
       "      <th>category</th>\n",
       "      <th>query</th>\n",
       "      <th>click_time</th>\n",
       "      <th>query_time</th>\n",
       "    </tr>\n",
       "  </thead>\n",
       "  <tbody>\n",
       "    <tr>\n",
       "      <th>0</th>\n",
       "      <td>0001cd0d10bbc585c9ba287c963e00873d4c0bfd</td>\n",
       "      <td>2032076</td>\n",
       "      <td>abcat0701002</td>\n",
       "      <td>gears of war</td>\n",
       "      <td>2011-10-09 17:22:56.101</td>\n",
       "      <td>2011-10-09 17:21:42.917</td>\n",
       "    </tr>\n",
       "    <tr>\n",
       "      <th>1</th>\n",
       "      <td>00033dbced6acd3626c4b56ff5c55b8d69911681</td>\n",
       "      <td>9854804</td>\n",
       "      <td>abcat0701002</td>\n",
       "      <td>Gears of war</td>\n",
       "      <td>2011-09-25 13:35:42.198</td>\n",
       "      <td>2011-09-25 13:35:33.234</td>\n",
       "    </tr>\n",
       "    <tr>\n",
       "      <th>2</th>\n",
       "      <td>00033dbced6acd3626c4b56ff5c55b8d69911681</td>\n",
       "      <td>2670133</td>\n",
       "      <td>abcat0701002</td>\n",
       "      <td>Gears of war</td>\n",
       "      <td>2011-09-25 13:36:08.668</td>\n",
       "      <td>2011-09-25 13:35:33.234</td>\n",
       "    </tr>\n",
       "    <tr>\n",
       "      <th>3</th>\n",
       "      <td>00033dbced6acd3626c4b56ff5c55b8d69911681</td>\n",
       "      <td>9984142</td>\n",
       "      <td>abcat0701002</td>\n",
       "      <td>Assassin creed</td>\n",
       "      <td>2011-09-25 13:37:23.709</td>\n",
       "      <td>2011-09-25 13:37:00.049</td>\n",
       "    </tr>\n",
       "    <tr>\n",
       "      <th>4</th>\n",
       "      <td>0007756f015345450f7be1df33695421466b7ce4</td>\n",
       "      <td>2541184</td>\n",
       "      <td>abcat0701002</td>\n",
       "      <td>dead island</td>\n",
       "      <td>2011-09-11 15:15:34.336</td>\n",
       "      <td>2011-09-11 15:15:26.206</td>\n",
       "    </tr>\n",
       "  </tbody>\n",
       "</table>\n",
       "</div>"
      ],
      "text/plain": [
       "                                       user      sku      category  \\\n",
       "0  0001cd0d10bbc585c9ba287c963e00873d4c0bfd  2032076  abcat0701002   \n",
       "1  00033dbced6acd3626c4b56ff5c55b8d69911681  9854804  abcat0701002   \n",
       "2  00033dbced6acd3626c4b56ff5c55b8d69911681  2670133  abcat0701002   \n",
       "3  00033dbced6acd3626c4b56ff5c55b8d69911681  9984142  abcat0701002   \n",
       "4  0007756f015345450f7be1df33695421466b7ce4  2541184  abcat0701002   \n",
       "\n",
       "            query               click_time               query_time  \n",
       "0    gears of war  2011-10-09 17:22:56.101  2011-10-09 17:21:42.917  \n",
       "1    Gears of war  2011-09-25 13:35:42.198  2011-09-25 13:35:33.234  \n",
       "2    Gears of war  2011-09-25 13:36:08.668  2011-09-25 13:35:33.234  \n",
       "3  Assassin creed  2011-09-25 13:37:23.709  2011-09-25 13:37:00.049  \n",
       "4     dead island  2011-09-11 15:15:34.336  2011-09-11 15:15:26.206  "
      ]
     },
     "execution_count": 19,
     "metadata": {},
     "output_type": "execute_result"
    }
   ],
   "source": [
    "df.head()"
   ]
  },
  {
   "cell_type": "code",
   "execution_count": 22,
   "id": "7f81d90e-a22b-4f1f-916e-5507877c79cc",
   "metadata": {},
   "outputs": [
    {
     "data": {
      "text/html": [
       "<div>\n",
       "<style scoped>\n",
       "    .dataframe tbody tr th:only-of-type {\n",
       "        vertical-align: middle;\n",
       "    }\n",
       "\n",
       "    .dataframe tbody tr th {\n",
       "        vertical-align: top;\n",
       "    }\n",
       "\n",
       "    .dataframe thead th {\n",
       "        text-align: right;\n",
       "    }\n",
       "</style>\n",
       "<table border=\"1\" class=\"dataframe\">\n",
       "  <thead>\n",
       "    <tr style=\"text-align: right;\">\n",
       "      <th></th>\n",
       "      <th>sku</th>\n",
       "    </tr>\n",
       "  </thead>\n",
       "  <tbody>\n",
       "    <tr>\n",
       "      <th>count</th>\n",
       "      <td>4.236500e+04</td>\n",
       "    </tr>\n",
       "    <tr>\n",
       "      <th>mean</th>\n",
       "      <td>2.360281e+11</td>\n",
       "    </tr>\n",
       "    <tr>\n",
       "      <th>std</th>\n",
       "      <td>4.858031e+13</td>\n",
       "    </tr>\n",
       "    <tr>\n",
       "      <th>min</th>\n",
       "      <td>1.004622e+06</td>\n",
       "    </tr>\n",
       "    <tr>\n",
       "      <th>25%</th>\n",
       "      <td>2.173065e+06</td>\n",
       "    </tr>\n",
       "    <tr>\n",
       "      <th>50%</th>\n",
       "      <td>2.670133e+06</td>\n",
       "    </tr>\n",
       "    <tr>\n",
       "      <th>75%</th>\n",
       "      <td>3.046603e+06</td>\n",
       "    </tr>\n",
       "    <tr>\n",
       "      <th>max</th>\n",
       "      <td>9.999169e+15</td>\n",
       "    </tr>\n",
       "  </tbody>\n",
       "</table>\n",
       "</div>"
      ],
      "text/plain": [
       "                sku\n",
       "count  4.236500e+04\n",
       "mean   2.360281e+11\n",
       "std    4.858031e+13\n",
       "min    1.004622e+06\n",
       "25%    2.173065e+06\n",
       "50%    2.670133e+06\n",
       "75%    3.046603e+06\n",
       "max    9.999169e+15"
      ]
     },
     "execution_count": 22,
     "metadata": {},
     "output_type": "execute_result"
    }
   ],
   "source": [
    "df.describe()"
   ]
  },
  {
   "cell_type": "code",
   "execution_count": 23,
   "id": "36b520e8-fe14-434f-8b1a-1edebc2cc157",
   "metadata": {},
   "outputs": [
    {
     "name": "stdout",
     "output_type": "stream",
     "text": [
      "<class 'pandas.core.frame.DataFrame'>\n",
      "RangeIndex: 42365 entries, 0 to 42364\n",
      "Data columns (total 6 columns):\n",
      " #   Column      Non-Null Count  Dtype \n",
      "---  ------      --------------  ----- \n",
      " 0   user        42365 non-null  object\n",
      " 1   sku         42365 non-null  int64 \n",
      " 2   category    42365 non-null  object\n",
      " 3   query       42365 non-null  object\n",
      " 4   click_time  42365 non-null  object\n",
      " 5   query_time  42365 non-null  object\n",
      "dtypes: int64(1), object(5)\n",
      "memory usage: 1.9+ MB\n"
     ]
    }
   ],
   "source": [
    "df.info()"
   ]
  },
  {
   "cell_type": "code",
   "execution_count": 24,
   "id": "78fbbdce-dcc9-4e4a-847c-b1be31c40e6c",
   "metadata": {},
   "outputs": [
    {
     "data": {
      "text/plain": [
       "user          object\n",
       "sku            int64\n",
       "category      object\n",
       "query         object\n",
       "click_time    object\n",
       "query_time    object\n",
       "dtype: object"
      ]
     },
     "execution_count": 24,
     "metadata": {},
     "output_type": "execute_result"
    }
   ],
   "source": [
    "df.dtypes"
   ]
  },
  {
   "cell_type": "code",
   "execution_count": 25,
   "id": "8161b790-a858-4edd-b43e-02949e0ddec8",
   "metadata": {},
   "outputs": [
    {
     "data": {
      "text/plain": [
       "query\n",
       "Gears of war 3                             1471\n",
       "Dead island                                1350\n",
       "Battlefield 3                              1012\n",
       "dead island                                 911\n",
       "gears of war 3                              877\n",
       "                                           ... \n",
       "ccall of duty modern warfare 3 hardened       1\n",
       "Batman the brave and the bold                 1\n",
       "dc xbox                                       1\n",
       "chuck dvd                                     1\n",
       "Limited edition forza 4                       1\n",
       "Name: count, Length: 5960, dtype: int64"
      ]
     },
     "execution_count": 25,
     "metadata": {},
     "output_type": "execute_result"
    }
   ],
   "source": [
    "df['query'].value_counts()"
   ]
  },
  {
   "cell_type": "code",
   "execution_count": 28,
   "id": "e7d29a99-db58-4ac3-93f8-0d1f96260288",
   "metadata": {},
   "outputs": [
    {
     "data": {
      "text/plain": [
       "array(['gears of war', 'Gears of war', 'Assassin creed', ...,\n",
       "       'Xbox fable ii', 'legend of troy', 'Limited edition forza 4'],\n",
       "      dtype=object)"
      ]
     },
     "execution_count": 28,
     "metadata": {},
     "output_type": "execute_result"
    }
   ],
   "source": [
    "df['query'].unique()"
   ]
  },
  {
   "cell_type": "code",
   "execution_count": 29,
   "id": "9f43098a-1d0a-4b3a-a7c1-34c60ca0d64c",
   "metadata": {},
   "outputs": [
    {
     "data": {
      "text/plain": [
       "5960"
      ]
     },
     "execution_count": 29,
     "metadata": {},
     "output_type": "execute_result"
    }
   ],
   "source": [
    "df['query'].nunique()"
   ]
  },
  {
   "cell_type": "code",
   "execution_count": 31,
   "id": "dbca0b5a-419d-4c71-81ba-b993e179fdcf",
   "metadata": {},
   "outputs": [
    {
     "data": {
      "text/plain": [
       "user          0\n",
       "sku           0\n",
       "category      0\n",
       "query         0\n",
       "click_time    0\n",
       "query_time    0\n",
       "dtype: int64"
      ]
     },
     "execution_count": 31,
     "metadata": {},
     "output_type": "execute_result"
    }
   ],
   "source": [
    "df.isna().sum()"
   ]
  },
  {
   "cell_type": "code",
   "execution_count": 34,
   "id": "a286376b-8734-4397-b2f9-72b1634990fd",
   "metadata": {},
   "outputs": [
    {
     "data": {
      "text/plain": [
       "sku\n",
       "9854804    2966\n",
       "2107458    2607\n",
       "2541184    2557\n",
       "2670133    2321\n",
       "2173065    2075\n",
       "2945052    1832\n",
       "2078113    1343\n",
       "2953607    1129\n",
       "2467129    1039\n",
       "2977637    1019\n",
       "Name: count, dtype: int64"
      ]
     },
     "execution_count": 34,
     "metadata": {},
     "output_type": "execute_result"
    }
   ],
   "source": [
    "df['sku'].value_counts()[0:10]"
   ]
  },
  {
   "cell_type": "code",
   "execution_count": 32,
   "id": "95d60932-8570-4da9-a586-0d4fbbe891fe",
   "metadata": {},
   "outputs": [
    {
     "data": {
      "text/html": [
       "<div>\n",
       "<style scoped>\n",
       "    .dataframe tbody tr th:only-of-type {\n",
       "        vertical-align: middle;\n",
       "    }\n",
       "\n",
       "    .dataframe tbody tr th {\n",
       "        vertical-align: top;\n",
       "    }\n",
       "\n",
       "    .dataframe thead th {\n",
       "        text-align: right;\n",
       "    }\n",
       "</style>\n",
       "<table border=\"1\" class=\"dataframe\">\n",
       "  <thead>\n",
       "    <tr style=\"text-align: right;\">\n",
       "      <th></th>\n",
       "      <th>user</th>\n",
       "      <th>sku</th>\n",
       "      <th>category</th>\n",
       "      <th>query</th>\n",
       "      <th>click_time</th>\n",
       "      <th>query_time</th>\n",
       "    </tr>\n",
       "  </thead>\n",
       "  <tbody>\n",
       "    <tr>\n",
       "      <th>1</th>\n",
       "      <td>00033dbced6acd3626c4b56ff5c55b8d69911681</td>\n",
       "      <td>9854804</td>\n",
       "      <td>abcat0701002</td>\n",
       "      <td>Gears of war</td>\n",
       "      <td>2011-09-25 13:35:42.198</td>\n",
       "      <td>2011-09-25 13:35:33.234</td>\n",
       "    </tr>\n",
       "    <tr>\n",
       "      <th>12</th>\n",
       "      <td>0010a136a422578130886603598d52f326a8927b</td>\n",
       "      <td>9854804</td>\n",
       "      <td>abcat0701002</td>\n",
       "      <td>Gears of war 3</td>\n",
       "      <td>2011-10-08 15:54:06.4</td>\n",
       "      <td>2011-10-08 15:53:31.486</td>\n",
       "    </tr>\n",
       "    <tr>\n",
       "      <th>23</th>\n",
       "      <td>001d856329a212eb052e1597663150a2421a3c02</td>\n",
       "      <td>9854804</td>\n",
       "      <td>abcat0701002</td>\n",
       "      <td>Gears of war 3</td>\n",
       "      <td>2011-09-07 17:48:58.823</td>\n",
       "      <td>2011-09-07 17:48:52.138</td>\n",
       "    </tr>\n",
       "    <tr>\n",
       "      <th>31</th>\n",
       "      <td>0030b51e85341499f00456e0706f9a5fec8d1d1e</td>\n",
       "      <td>9854804</td>\n",
       "      <td>abcat0701002</td>\n",
       "      <td>Gears of war 3</td>\n",
       "      <td>2011-09-05 20:25:51.207</td>\n",
       "      <td>2011-09-05 20:25:04.134</td>\n",
       "    </tr>\n",
       "    <tr>\n",
       "      <th>39</th>\n",
       "      <td>004070311172f0fa3974a88133b5769135ac2938</td>\n",
       "      <td>9854804</td>\n",
       "      <td>abcat0701002</td>\n",
       "      <td>Gears of war</td>\n",
       "      <td>2011-09-20 02:25:50.707</td>\n",
       "      <td>2011-09-20 02:25:34.905</td>\n",
       "    </tr>\n",
       "    <tr>\n",
       "      <th>...</th>\n",
       "      <td>...</td>\n",
       "      <td>...</td>\n",
       "      <td>...</td>\n",
       "      <td>...</td>\n",
       "      <td>...</td>\n",
       "      <td>...</td>\n",
       "    </tr>\n",
       "    <tr>\n",
       "      <th>42318</th>\n",
       "      <td>ffad00eed46cb26a07f8bff3d486517ae954a156</td>\n",
       "      <td>9854804</td>\n",
       "      <td>abcat0701002</td>\n",
       "      <td>Gears of war</td>\n",
       "      <td>2011-09-18 13:38:26.501</td>\n",
       "      <td>2011-09-18 13:35:23.344</td>\n",
       "    </tr>\n",
       "    <tr>\n",
       "      <th>42336</th>\n",
       "      <td>ffc71fdb3a23e44c42d5b0f6a3000900a84627c8</td>\n",
       "      <td>2107458</td>\n",
       "      <td>abcat0701002</td>\n",
       "      <td>battefield 3</td>\n",
       "      <td>2011-10-20 22:25:26.742</td>\n",
       "      <td>2011-10-20 22:24:26.833</td>\n",
       "    </tr>\n",
       "    <tr>\n",
       "      <th>42340</th>\n",
       "      <td>ffd516c399d0e348b5d4d707a29ccbe9defe384b</td>\n",
       "      <td>2107458</td>\n",
       "      <td>abcat0701002</td>\n",
       "      <td>battefield</td>\n",
       "      <td>2011-10-29 12:14:37.458</td>\n",
       "      <td>2011-10-29 12:14:28.764</td>\n",
       "    </tr>\n",
       "    <tr>\n",
       "      <th>42343</th>\n",
       "      <td>ffdd8017f1216292021162aa4513d476500c09ce</td>\n",
       "      <td>9854804</td>\n",
       "      <td>abcat0701002</td>\n",
       "      <td>Gears of war 3</td>\n",
       "      <td>2011-09-23 05:44:36.313</td>\n",
       "      <td>2011-09-23 05:44:20.78</td>\n",
       "    </tr>\n",
       "    <tr>\n",
       "      <th>42351</th>\n",
       "      <td>ffe73997d746d6567294760c18634c67363b3364</td>\n",
       "      <td>2107458</td>\n",
       "      <td>abcat0701002</td>\n",
       "      <td>Battlefield 3</td>\n",
       "      <td>2011-09-30 00:43:37.343</td>\n",
       "      <td>2011-09-30 00:43:17.95</td>\n",
       "    </tr>\n",
       "  </tbody>\n",
       "</table>\n",
       "<p>5573 rows × 6 columns</p>\n",
       "</div>"
      ],
      "text/plain": [
       "                                           user      sku      category  \\\n",
       "1      00033dbced6acd3626c4b56ff5c55b8d69911681  9854804  abcat0701002   \n",
       "12     0010a136a422578130886603598d52f326a8927b  9854804  abcat0701002   \n",
       "23     001d856329a212eb052e1597663150a2421a3c02  9854804  abcat0701002   \n",
       "31     0030b51e85341499f00456e0706f9a5fec8d1d1e  9854804  abcat0701002   \n",
       "39     004070311172f0fa3974a88133b5769135ac2938  9854804  abcat0701002   \n",
       "...                                         ...      ...           ...   \n",
       "42318  ffad00eed46cb26a07f8bff3d486517ae954a156  9854804  abcat0701002   \n",
       "42336  ffc71fdb3a23e44c42d5b0f6a3000900a84627c8  2107458  abcat0701002   \n",
       "42340  ffd516c399d0e348b5d4d707a29ccbe9defe384b  2107458  abcat0701002   \n",
       "42343  ffdd8017f1216292021162aa4513d476500c09ce  9854804  abcat0701002   \n",
       "42351  ffe73997d746d6567294760c18634c67363b3364  2107458  abcat0701002   \n",
       "\n",
       "                query               click_time               query_time  \n",
       "1        Gears of war  2011-09-25 13:35:42.198  2011-09-25 13:35:33.234  \n",
       "12     Gears of war 3    2011-10-08 15:54:06.4  2011-10-08 15:53:31.486  \n",
       "23     Gears of war 3  2011-09-07 17:48:58.823  2011-09-07 17:48:52.138  \n",
       "31     Gears of war 3  2011-09-05 20:25:51.207  2011-09-05 20:25:04.134  \n",
       "39       Gears of war  2011-09-20 02:25:50.707  2011-09-20 02:25:34.905  \n",
       "...               ...                      ...                      ...  \n",
       "42318    Gears of war  2011-09-18 13:38:26.501  2011-09-18 13:35:23.344  \n",
       "42336    battefield 3  2011-10-20 22:25:26.742  2011-10-20 22:24:26.833  \n",
       "42340      battefield  2011-10-29 12:14:37.458  2011-10-29 12:14:28.764  \n",
       "42343  Gears of war 3  2011-09-23 05:44:36.313   2011-09-23 05:44:20.78  \n",
       "42351   Battlefield 3  2011-09-30 00:43:37.343   2011-09-30 00:43:17.95  \n",
       "\n",
       "[5573 rows x 6 columns]"
      ]
     },
     "execution_count": 32,
     "metadata": {},
     "output_type": "execute_result"
    }
   ],
   "source": [
    "newdf = df[(df['sku']==9854804) | (df['sku']==2107458)]\n",
    "newdf"
   ]
  },
  {
   "cell_type": "code",
   "execution_count": 40,
   "id": "6551fcf2-7ed8-4d59-8dea-92e430b007c9",
   "metadata": {},
   "outputs": [
    {
     "data": {
      "text/plain": [
       "<seaborn.axisgrid.PairGrid at 0x17684d313d0>"
      ]
     },
     "execution_count": 40,
     "metadata": {},
     "output_type": "execute_result"
    },
    {
     "data": {
      "image/png": "[encoded data removed]",
      "text/plain": [
       "<Figure size 301.236x250 with 2 Axes>"
      ]
     },
     "metadata": {},
     "output_type": "display_data"
    }
   ],
   "source": [
    "sns.pairplot(newdf, hue='query')"
   ]
  },
  {
   "cell_type": "code",
   "execution_count": 44,
   "id": "cf9f39e6-481f-40dc-9f93-71307a561920",
   "metadata": {},
   "outputs": [
    {
     "data": {
      "text/plain": [
       "<Axes: xlabel='query', ylabel='count'>"
      ]
     },
     "execution_count": 44,
     "metadata": {},
     "output_type": "execute_result"
    },
    {
     "data": {
      "image/png": "[encoded data removed]",
      "text/plain": [
       "<Figure size 640x480 with 1 Axes>"
      ]
     },
     "metadata": {},
     "output_type": "display_data"
    }
   ],
   "source": []
  },
  {
   "cell_type": "code",
   "execution_count": 48,
   "id": "bfdcbcda-b23b-44a5-844c-97a57f2c2779",
   "metadata": {},
   "outputs": [
    {
     "data": {
      "text/plain": [
       "<Axes: >"
      ]
     },
     "execution_count": 48,
     "metadata": {},
     "output_type": "execute_result"
    },
    {
     "data": {
      "image/png": "[encoded data removed]",
      "text/plain": [
       "<Figure size 640x480 with 2 Axes>"
      ]
     },
     "metadata": {},
     "output_type": "display_data"
    }
   ],
   "source": [
    "sns.heatmap(newdf.isnull(),cmap='coolwarm')"
   ]
  },
  {
   "cell_type": "markdown",
   "id": "ff0c3fee-7140-40cd-85ea-3460e10e9fd1",
   "metadata": {},
   "source": [
    "# Data Preprocessing"
   ]
  },
  {
   "cell_type": "code",
   "execution_count": 50,
   "id": "90e5ccc7-3630-4c0e-9edf-526e1a03aa35",
   "metadata": {},
   "outputs": [
    {
     "ename": "NameError",
     "evalue": "name 'dd' is not defined",
     "output_type": "error",
     "traceback": [
      "\u001b[1;31m---------------------------------------------------------------------------\u001b[0m",
      "\u001b[1;31mNameError\u001b[0m                                 Traceback (most recent call last)",
      "Cell \u001b[1;32mIn[50], line 1\u001b[0m\n\u001b[1;32m----> 1\u001b[0m \u001b[43mdd\u001b[49m\n",
      "\u001b[1;31mNameError\u001b[0m: name 'dd' is not defined"
     ]
    }
   ],
   "source": []
  },
  {
   "cell_type": "code",
   "execution_count": null,
   "id": "1d26443d-a298-44c9-aac8-0e1c7187e153",
   "metadata": {},
   "outputs": [],
   "source": []
  }
 ],
 "metadata": {
  "kernelspec": {
   "display_name": "Python 3 (ipykernel)",
   "language": "python",
   "name": "python3"
  },
  "language_info": {
   "codemirror_mode": {
    "name": "ipython",
    "version": 3
   },
   "file_extension": ".py",
   "mimetype": "text/x-python",
   "name": "python",
   "nbconvert_exporter": "python",
   "pygments_lexer": "ipython3",
   "version": "3.12.3"
  }
 },
 "nbformat": 4,
 "nbformat_minor": 5
}
